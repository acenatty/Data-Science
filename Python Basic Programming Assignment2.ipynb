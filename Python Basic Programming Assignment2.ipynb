{
 "cells": [
  {
   "cell_type": "code",
   "execution_count": 12,
   "metadata": {},
   "outputs": [
    {
     "name": "stdout",
     "output_type": "stream",
     "text": [
      "Please enter the kilometers1000\n",
      "1000 kilometers is equal to 620 miles\n"
     ]
    }
   ],
   "source": [
    "## 1.\tWrite a Python program to convert kilometers to miles?\n",
    "k=int(input('Please enter the kilometers: '))\n",
    "m=k*0.62\n",
    "print('{} kilometers is equal to {} miles'.format(k,int(m)))"
   ]
  },
  {
   "cell_type": "code",
   "execution_count": 46,
   "metadata": {},
   "outputs": [
    {
     "name": "stdout",
     "output_type": "stream",
     "text": [
      "Please input the temperature in Celsius: 100\n",
      "100 degree Celsius is equal to 212 degree Fahrenhiet.\n"
     ]
    }
   ],
   "source": [
    "## 2.\tWrite a Python program to convert Celsius to Fahrenheit?\n",
    "c=int(input('Please input the temperature in Celsius: '))\n",
    "f=(c*9/5+32)\n",
    "print('{} degree Celsius is equal to {} degree Fahrenhiet.'.format(c, int(f)))"
   ]
  },
  {
   "cell_type": "code",
   "execution_count": 27,
   "metadata": {},
   "outputs": [
    {
     "name": "stdout",
     "output_type": "stream",
     "text": [
      "Please input the month number: 3\n",
      "Please input the year: 2021\n",
      "Below is the calendar for 3, 2021\n",
      "      March 2021\n",
      "Mo Tu We Th Fr Sa Su\n",
      " 1  2  3  4  5  6  7\n",
      " 8  9 10 11 12 13 14\n",
      "15 16 17 18 19 20 21\n",
      "22 23 24 25 26 27 28\n",
      "29 30 31\n",
      "\n"
     ]
    }
   ],
   "source": [
    "3##\tWrite a Python program to display calendar?\n",
    "import calendar\n",
    "m,y=int(input('Please input the month number: ')), int(input('Please input the year: '))\n",
    "print('Below is the calendar for {}, {}\\n'.format(m,y), calendar.month(y,m))"
   ]
  },
  {
   "cell_type": "code",
   "execution_count": 42,
   "metadata": {},
   "outputs": [
    {
     "name": "stdout",
     "output_type": "stream",
     "text": [
      "Please enter any number  > 0: 10\n",
      "Please enter any number: 5\n",
      "Please enter any number: 2\n",
      "The output is (-0.25-0.37080992435478316j) and (-0.25+0.37080992435478316j)\n"
     ]
    }
   ],
   "source": [
    "#4.\tWrite a Python program to solve quadratic equation?\n",
    "import cmath\n",
    "\n",
    "a = int(input('Please enter any number  > 0: '))\n",
    "b = int(input('Please enter any number: '))\n",
    "c = int(input('Please enter any number: '))\n",
    "d = (b**2) - (4*a*c)\n",
    "output1 = (-b-cmath.sqrt(d))/(2*a)\n",
    "output2 = (-b+cmath.sqrt(d))/(2*a)\n",
    "print('The output is {0} and {1}'.format(output1,output2))\n"
   ]
  },
  {
   "cell_type": "code",
   "execution_count": 44,
   "metadata": {},
   "outputs": [
    {
     "name": "stdout",
     "output_type": "stream",
     "text": [
      "swapped varible values are:a=20, b=10\n"
     ]
    }
   ],
   "source": [
    "##5.\tWrite a Python program to swap two variables without temp variable?\n",
    "a=10\n",
    "b=20\n",
    "\n",
    "a,b = b,a\n",
    "\n",
    "print('swapped varible values are:a={}, b={}'.format(a,b))"
   ]
  }
 ],
 "metadata": {
  "kernelspec": {
   "display_name": "Python 3",
   "language": "python",
   "name": "python3"
  },
  "language_info": {
   "codemirror_mode": {
    "name": "ipython",
    "version": 3
   },
   "file_extension": ".py",
   "mimetype": "text/x-python",
   "name": "python",
   "nbconvert_exporter": "python",
   "pygments_lexer": "ipython3",
   "version": "3.7.3"
  }
 },
 "nbformat": 4,
 "nbformat_minor": 2
}
