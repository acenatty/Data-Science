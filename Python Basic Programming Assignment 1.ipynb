{
 "cells": [
  {
   "cell_type": "code",
   "execution_count": 1,
   "metadata": {},
   "outputs": [
    {
     "name": "stdout",
     "output_type": "stream",
     "text": [
      "Hello Python\n"
     ]
    }
   ],
   "source": [
    "## 1.\tWrite a Python program to print \"Hello Python\"?\n",
    "\n",
    "print('Hello Python')\n"
   ]
  },
  {
   "cell_type": "code",
   "execution_count": 7,
   "metadata": {},
   "outputs": [
    {
     "name": "stdout",
     "output_type": "stream",
     "text": [
      "Please enter first number: 10\n",
      "please enter second number: 20\n",
      "Addition of 10 & 20  is:  30\n",
      "Division of 10 & 20  is:  0.5\n"
     ]
    }
   ],
   "source": [
    "## 2.\tWrite a Python program to do arithmetical operations addition and division.?\n",
    "\n",
    "a=int(input('Please enter first number: '))\n",
    "b=int(input('please enter second number: '))\n",
    "print('Addition of {} & {}  is: '.format(a,b),a+b)\n",
    "print('Division of {} & {}  is: '.format(a,b),round(a/b,2))\n"
   ]
  },
  {
   "cell_type": "code",
   "execution_count": 10,
   "metadata": {},
   "outputs": [
    {
     "name": "stdout",
     "output_type": "stream",
     "text": [
      "Please provide the base of a triangle in cm: 10\n",
      "please provide the height of a triagle in cm: 5\n",
      "The area of a triangle is 25.0cms\n"
     ]
    }
   ],
   "source": [
    "## 3.\tWrite a Python program to find the area of a triangle?\n",
    "\n",
    "b=int(input('Please provide the base of a triangle in cm: '))\n",
    "h=int(input('please provide the height of a triagle in cm: '))\n",
    "area=1/2*b*h\n",
    "print('The area of a triangle is {}cms'.format(area) )"
   ]
  },
  {
   "cell_type": "code",
   "execution_count": 8,
   "metadata": {},
   "outputs": [
    {
     "name": "stdout",
     "output_type": "stream",
     "text": [
      "swapped varible values are:a=20, b=10\n"
     ]
    }
   ],
   "source": [
    "##4.\tWrite a Python program to swap two variables?\n",
    "\n",
    "a=10\n",
    "b=20\n",
    "a,b=b,a\n",
    "\n",
    "print('swapped varible values are:a={}, b={}'.format(a,b))"
   ]
  },
  {
   "cell_type": "code",
   "execution_count": 9,
   "metadata": {},
   "outputs": [
    {
     "name": "stdout",
     "output_type": "stream",
     "text": [
      "66\n"
     ]
    }
   ],
   "source": [
    "## 5.\tWrite a Python program to generate a random number?\n",
    "\n",
    "import random\n",
    "print(random.randint(0, 100))"
   ]
  }
 ],
 "metadata": {
  "kernelspec": {
   "display_name": "Python 3",
   "language": "python",
   "name": "python3"
  },
  "language_info": {
   "codemirror_mode": {
    "name": "ipython",
    "version": 3
   },
   "file_extension": ".py",
   "mimetype": "text/x-python",
   "name": "python",
   "nbconvert_exporter": "python",
   "pygments_lexer": "ipython3",
   "version": "3.7.3"
  }
 },
 "nbformat": 4,
 "nbformat_minor": 2
}
