{
 "cells": [
  {
   "cell_type": "code",
   "execution_count": 2,
   "metadata": {},
   "outputs": [
    {
     "name": "stdout",
     "output_type": "stream",
     "text": [
      "please enter an integer: 5\n",
      "Factorial of 5 is 120\n"
     ]
    }
   ],
   "source": [
    "##1.\tWrite a Python Program to Find the Factorial of a Number?\n",
    "\n",
    "f=int(input('please enter an integer: '))\n",
    "r=1\n",
    "if f<0:\n",
    "    print('invalid number, please enter number greater than 1')\n",
    "elif f==0:\n",
    "    print('Factorial of 0 is 1')\n",
    "else:\n",
    "    for i in range(1,f+1):\n",
    "        r=r*i\n",
    "print('Factorial of {} is {}'.format(f,r))"
   ]
  },
  {
   "cell_type": "code",
   "execution_count": 3,
   "metadata": {},
   "outputs": [
    {
     "name": "stdout",
     "output_type": "stream",
     "text": [
      "please provide a number greater than equal to 1 to diplay multiplication table: 4\n",
      "please provide the number of times the multiplication table to display?: 10\n",
      "\n",
      "Below is the multiplication table of 4:\n",
      "\n",
      "4 * 1 = 4\t\n",
      "4 * 2 = 8\t\n",
      "4 * 3 = 12\t\n",
      "4 * 4 = 16\t\n",
      "4 * 5 = 20\t\n",
      "4 * 6 = 24\t\n",
      "4 * 7 = 28\t\n",
      "4 * 8 = 32\t\n",
      "4 * 9 = 36\t\n",
      "4 * 10 = 40\t\n"
     ]
    }
   ],
   "source": [
    "## 2.\tWrite a Python Program to Display the multiplication Table?\n",
    "\n",
    "m=int(input('please provide a number greater than equal to 1 to diplay multiplication table: '))\n",
    "m1=int(input('please provide the number of times the multiplication table to display?: '))\n",
    "r=1\n",
    "print('\\nBelow is the multiplication table of {}:\\n'.format(m))\n",
    "for i in range(1,m1+1):\n",
    "    r=m*i\n",
    "    print('{} * {} = {}\\t'.format(m,i,r))\n"
   ]
  },
  {
   "cell_type": "code",
   "execution_count": 4,
   "metadata": {},
   "outputs": [
    {
     "name": "stdout",
     "output_type": "stream",
     "text": [
      "Please enter a number to form Fibonacci seqence:6\n",
      "[0, 1, 1, 2, 3, 5, 8]\n"
     ]
    }
   ],
   "source": [
    "#3.\tWrite a Python Program to Print the Fibonacci sequence?\n",
    "\n",
    "fb=int(input('Please enter a number to form Fibonacci seqence:'))\n",
    "n1=0\n",
    "n2=1\n",
    "output=[0]\n",
    "for i in range(fb):\n",
    "    n1, n2= n2, n1+n2\n",
    "    output.append(n1)\n",
    "print(output)"
   ]
  },
  {
   "cell_type": "code",
   "execution_count": 6,
   "metadata": {},
   "outputs": [
    {
     "name": "stdout",
     "output_type": "stream",
     "text": [
      "please input a number to check if it is a Armstrong number or not: 153\n",
      "***Bingo***, the given number 153 is an Armstrong number\n"
     ]
    }
   ],
   "source": [
    "##4\tWrite a Python Program to Check Armstrong Number?\n",
    "\n",
    "arms=int(input('please input a number to check if it is a Armstrong number or not: '))\n",
    "l1=[]\n",
    "l=list(str(arms))\n",
    "for i in l:\n",
    "    i=int(i)**3\n",
    "    l1.append(i)\n",
    "if sum(l1) == arms:\n",
    "    print('***Bingo***, the given number {} is an Armstrong number'.format(arms))\n",
    "else:\n",
    "    print('Sorry, the given number {} is not an Armstrong number, try some other number'.format(arms))\n"
   ]
  },
  {
   "cell_type": "code",
   "execution_count": 70,
   "metadata": {},
   "outputs": [
    {
     "name": "stdout",
     "output_type": "stream",
     "text": [
      "Please enter the minimum range: 0\n",
      "Please enter the maximum range to display Armstrong number:1000\n",
      " Armstrong number in the given interval is/are: \n",
      "0\n",
      "1\n",
      "2\n",
      "3\n",
      "4\n",
      "5\n",
      "6\n",
      "7\n",
      "8\n",
      "9\n",
      "153\n",
      "370\n",
      "371\n",
      "407\n"
     ]
    }
   ],
   "source": [
    "## 5.\tWrite a Python Program to Find Armstrong Number in an Interval?\n",
    "\n",
    "minimum = int(input('Please enter the minimum range: '))\n",
    "maximum=int(input('Please enter the maximum range to display Armstrong number:'))\n",
    "print(' Armstrong number in the given interval is/are: ')\n",
    "for i in range(minimum, maximum+1):\n",
    "    order = len(str(i))\n",
    "    a = 0\n",
    "    b = i\n",
    "    while b > 0:\n",
    "            digit = b % 10\n",
    "            a += digit ** order\n",
    "            b //= 10\n",
    "    if i == a:\n",
    "        print(i)"
   ]
  },
  {
   "cell_type": "code",
   "execution_count": 11,
   "metadata": {},
   "outputs": [
    {
     "name": "stdout",
     "output_type": "stream",
     "text": [
      "please input the maximum number to return sum of natural numbers: 20\n",
      "210\n"
     ]
    }
   ],
   "source": [
    "#6.\tWrite a Python Program to Find the Sum of Natural Numbers?\n",
    "\n",
    "inp=int(input('please input the maximum number to return sum of natural numbers: '))\n",
    "x=[]\n",
    "for i in range(1,inp+1):\n",
    "    x.append(i)\n",
    "print(sum(x))"
   ]
  }
 ],
 "metadata": {
  "kernelspec": {
   "display_name": "Python 3",
   "language": "python",
   "name": "python3"
  },
  "language_info": {
   "codemirror_mode": {
    "name": "ipython",
    "version": 3
   },
   "file_extension": ".py",
   "mimetype": "text/x-python",
   "name": "python",
   "nbconvert_exporter": "python",
   "pygments_lexer": "ipython3",
   "version": "3.7.3"
  }
 },
 "nbformat": 4,
 "nbformat_minor": 2
}
